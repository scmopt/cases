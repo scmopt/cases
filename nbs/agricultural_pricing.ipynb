{
 "cells": [
  {
   "cell_type": "markdown",
   "metadata": {},
   "source": [
    "# Agricultural Pricing\n",
    "\n",
    "## Objective and Prerequisites\n",
    "\n",
    "Try this example to learn how to use mathematical optimization to tackle a common, but critical agricultural pricing problem:  Determining the prices and demand for a country’s dairy products in order to maximize total revenue derived from the sales of those products. You will learn how to model this problem as a quadratic optimization problem using the Gurobi Python API and solve it using the Gurobi Optimizer.\n",
    "\n",
    "This model is example 21 from the fifth edition of Model Building in Mathematical Programming, by H. Paul Williams on pages 276-278 and 333-335.\n",
    "\n",
    "This modeling example is at the intermediate level, where we assume that you know Python and are familiar with the Gurobi Python API. In addition, you should have some knowledge about building mathematical optimization models.\n",
    "\n",
    "\n",
    "**Download the Repository** <br /> \n",
    "You can download the repository containing this and other examples by clicking [here](https://github.com/Gurobi/modeling-examples/archive/master.zip). "
   ]
  },
  {
   "cell_type": "markdown",
   "metadata": {},
   "source": [
    "## Problem Description\n",
    "\n",
    "The government of a country wants to decide what prices should be charged for its dairy products: milk, butter, and cheese. All these products \n",
    "are produced \n",
    "(directly or indirectly) from the country’s raw milk production operations. This raw milk is divided into two main components: fat and dry matter. After subtracting the quantities of fat and dry matter, which are used for making products for export or consumption on the farms, there is a total yearly availability of 600,000 tons of fat and 750,000 tons of dry matter. This is all available for producing milk, butter and two kinds of cheese for domestic consumption. The percentage composition of the products are given in the following table:\n",
    "\n",
    "| Composition | Fat (%) | Dry matter (%) |\n",
    "| --- | --- | --- |\n",
    "| Milk | 4 | 9 |\n",
    "| Butter | 80 | 2 |\n",
    "| Cheese 1 | 35 | 30 |\n",
    "| Cheese 2 | 25 | 40 |\n",
    "\n",
    "The table below shows last year's domestic consumption (demand) and prices for the dairy products:\n",
    "\n",
    "| Dairy <br /> products | Milk | Butter | Cheese 1 | Cheese 2 |\n",
    "| --- | --- | --- | --- | --- |\n",
    "| Demand (1000 tons) | 4.82 | 0.32 |  0.21 | 0.07 |\n",
    "| Price (dollars/ton) | 297 | 720 | 1050 | 815 |\n",
    "\n",
    "The elasticities and cross-elasticities are given in the table below:\n",
    "\n",
    "| Milk | Butter | Cheese 1 | Cheese 2 | Cheese 1 to  <br /> Cheese 2 |  Cheese 2 to  <br /> Cheese 1 |\n",
    "| --- | --- | --- | --- | --- |  --- |\n",
    "| 0.4 | 2.7 | 1.1 |  0.4 | 0.1 |  0.4 |\n",
    "\n",
    "The price index cannot be raised higher than last year.This constraint establishes that the new prices must be such that the total cost of last year’s consumption would not be increased. \n",
    "Last year's price index is 1.939 (measured in thousand dollars).\n",
    "\n",
    "The goal is to determine what prices and demand  maximizes the total revenue."
   ]
  }
 ],
 "metadata": {
  "kernelspec": {
   "display_name": "python3",
   "language": "python",
   "name": "python3"
  }
 },
 "nbformat": 4,
 "nbformat_minor": 4
}
